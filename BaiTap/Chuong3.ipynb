{
 "cells": [
  {
   "cell_type": "markdown",
   "id": "d88b3ca7-7a4c-404b-8e6f-67179ab7bb6b",
   "metadata": {},
   "source": [
    "# Chapter 3: Crash Course in Python and SciPy"
   ]
  },
  {
   "cell_type": "markdown",
   "id": "73838282-c908-426f-a5a9-8baa646d1ee4",
   "metadata": {},
   "source": [
    "## 3.1 Python Crash Course"
   ]
  },
  {
   "cell_type": "markdown",
   "id": "335d937a-9e6e-4a8c-b65f-60c3628f20a0",
   "metadata": {
    "jp-MarkdownHeadingCollapsed": true
   },
   "source": [
    "### 3.1.1 Assignment"
   ]
  },
  {
   "cell_type": "markdown",
   "id": "b15d4199-a376-4233-8498-526fbd8ea627",
   "metadata": {},
   "source": [
    "#### Strings"
   ]
  },
  {
   "cell_type": "code",
   "execution_count": 1,
   "id": "e87bd5dd-1937-4090-adcd-5a01bab3353c",
   "metadata": {},
   "outputs": [
    {
     "name": "stdout",
     "output_type": "stream",
     "text": [
      "h\n",
      "11\n",
      "hello world\n"
     ]
    }
   ],
   "source": [
    "# Strings\n",
    "data = 'hello world'\n",
    "print(data[0])\n",
    "print(len(data))\n",
    "print(data)"
   ]
  },
  {
   "cell_type": "markdown",
   "id": "49d00d43-91e1-4840-b415-f35c6517d150",
   "metadata": {},
   "source": [
    "#### Numbers"
   ]
  },
  {
   "cell_type": "code",
   "execution_count": 4,
   "id": "6afddb56-38f2-4b82-b28c-6ee63634a7e2",
   "metadata": {},
   "outputs": [
    {
     "name": "stdout",
     "output_type": "stream",
     "text": [
      "123.1\n",
      "10\n"
     ]
    }
   ],
   "source": [
    "# Numbers\n",
    "value = 123.1\n",
    "print(value)\n",
    "value = 10\n",
    "print(value)"
   ]
  },
  {
   "cell_type": "markdown",
   "id": "490f5fa7-3102-4c47-8622-2050062110fe",
   "metadata": {},
   "source": [
    "#### Boolean"
   ]
  },
  {
   "cell_type": "code",
   "execution_count": 6,
   "id": "21ce7440-8557-4bb0-84e4-f89c70b32951",
   "metadata": {},
   "outputs": [
    {
     "name": "stdout",
     "output_type": "stream",
     "text": [
      "True False\n"
     ]
    }
   ],
   "source": [
    "# Boolean\n",
    "a = True\n",
    "b = False\n",
    "print(a, b)"
   ]
  },
  {
   "cell_type": "markdown",
   "id": "1cbb55a1-fd53-4718-ab9e-0189e4cd9b17",
   "metadata": {},
   "source": [
    "#### Multiple Assignment"
   ]
  },
  {
   "cell_type": "code",
   "execution_count": 7,
   "id": "da4b16e0-0971-4322-a010-83756454eb06",
   "metadata": {},
   "outputs": [
    {
     "name": "stdout",
     "output_type": "stream",
     "text": [
      "1 2 3\n"
     ]
    }
   ],
   "source": [
    "# Multiple Assignment\n",
    "a, b, c = 1, 2, 3\n",
    "print(a, b, c)"
   ]
  },
  {
   "cell_type": "markdown",
   "id": "c88b59c1-3446-48e1-a2ce-56694fcb9c84",
   "metadata": {},
   "source": [
    "#### No Value"
   ]
  },
  {
   "cell_type": "code",
   "execution_count": 8,
   "id": "3ab14ac2-4837-4486-b5a8-7550bf0dea42",
   "metadata": {},
   "outputs": [
    {
     "name": "stdout",
     "output_type": "stream",
     "text": [
      "None\n"
     ]
    }
   ],
   "source": [
    "# No value\n",
    "a = None\n",
    "print(a)"
   ]
  },
  {
   "cell_type": "markdown",
   "id": "d1a64963-d482-43b8-9510-869751224518",
   "metadata": {},
   "source": [
    "### 3.1.2 Flow Control"
   ]
  },
  {
   "cell_type": "code",
   "execution_count": null,
   "id": "18237a49-da50-407e-ae0e-ee88fc03b49d",
   "metadata": {},
   "outputs": [],
   "source": []
  }
 ],
 "metadata": {
  "kernelspec": {
   "display_name": "Python 3 (ipykernel)",
   "language": "python",
   "name": "python3"
  },
  "language_info": {
   "codemirror_mode": {
    "name": "ipython",
    "version": 3
   },
   "file_extension": ".py",
   "mimetype": "text/x-python",
   "name": "python",
   "nbconvert_exporter": "python",
   "pygments_lexer": "ipython3",
   "version": "3.12.7"
  }
 },
 "nbformat": 4,
 "nbformat_minor": 5
}
