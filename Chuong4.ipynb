{
 "cells": [
  {
   "cell_type": "markdown",
   "id": "4a6c4660-17ba-4fa4-b76c-09848a6c96b7",
   "metadata": {},
   "source": [
    "# Chapter 4: How To Load Machine Learning Data"
   ]
  },
  {
   "cell_type": "markdown",
   "id": "f96ace1b-ea21-4ca3-99d7-04b051e3db68",
   "metadata": {},
   "source": [
    "## 4.3 Load CSV Files with the Python Standard Library"
   ]
  },
  {
   "cell_type": "code",
   "execution_count": 6,
   "id": "75665950-f1c1-4f3d-b3ad-64bc5d27c0ed",
   "metadata": {},
   "outputs": [
    {
     "name": "stdout",
     "output_type": "stream",
     "text": [
      "(768, 9)\n"
     ]
    }
   ],
   "source": [
    "import csv\n",
    "import numpy as np\n",
    "\n",
    "filename = 'pima-indians-diabetes.data.csv'\n",
    "\n",
    "with open(filename, 'r') as raw_data:\n",
    "    reader = csv.reader(raw_data, delimiter=',', quoting=csv.QUOTE_NONE)\n",
    "    next(reader)  # 👈 Bỏ qua dòng tiêu đề\n",
    "    x = list(reader)\n",
    "    data = np.array(x).astype('float')\n",
    "    print(data.shape)\n"
   ]
  },
  {
   "cell_type": "markdown",
   "id": "bf3a41cd-8a86-437f-bd63-b1c830cc4dec",
   "metadata": {},
   "source": [
    "## 4.4 Load CSV Files with NumPy"
   ]
  },
  {
   "cell_type": "code",
   "execution_count": 10,
   "id": "dc6ad18b-b8a0-486a-9f28-5e19343b0b20",
   "metadata": {},
   "outputs": [
    {
     "name": "stdout",
     "output_type": "stream",
     "text": [
      "(768, 9)\n"
     ]
    }
   ],
   "source": [
    "# Load CSV using NumPy\n",
    "from numpy import loadtxt\n",
    "filename = 'pima-indians-diabetes.data.csv'\n",
    "raw_data = open(filename, 'r')\n",
    "next(raw_data)\n",
    "data = loadtxt(raw_data, delimiter=\",\")\n",
    "print(data.shape)"
   ]
  },
  {
   "cell_type": "markdown",
   "id": "19afac24-92db-4ebc-99e1-e9567d512d02",
   "metadata": {},
   "source": [
    "## 4.5 Load CSV Files with Pandas"
   ]
  },
  {
   "cell_type": "code",
   "execution_count": 15,
   "id": "c9b172fc-af43-4163-bb03-41159604e2f0",
   "metadata": {},
   "outputs": [
    {
     "name": "stdout",
     "output_type": "stream",
     "text": [
      "(768, 9)\n"
     ]
    }
   ],
   "source": [
    "# Load CSV using Pandas\n",
    "from pandas import read_csv\n",
    "filename = 'pima-indians-diabetes.data.csv'\n",
    "col_names = ['preg', 'plas', 'pres', 'skin', 'test', 'mass', 'pedi', 'age', 'class']\n",
    "data = read_csv(filename, names=col_names,skiprows=1)\n",
    "print(data.shape)"
   ]
  }
 ],
 "metadata": {
  "kernelspec": {
   "display_name": "Python 3 (ipykernel)",
   "language": "python",
   "name": "python3"
  },
  "language_info": {
   "codemirror_mode": {
    "name": "ipython",
    "version": 3
   },
   "file_extension": ".py",
   "mimetype": "text/x-python",
   "name": "python",
   "nbconvert_exporter": "python",
   "pygments_lexer": "ipython3",
   "version": "3.12.7"
  }
 },
 "nbformat": 4,
 "nbformat_minor": 5
}
